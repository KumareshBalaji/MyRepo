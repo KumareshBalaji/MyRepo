{
 "cells": [
  {
   "cell_type": "code",
   "execution_count": null,
   "id": "aa67b6c6-1a35-407e-a0fa-572e2a3fc59e",
   "metadata": {},
   "outputs": [],
   "source": [
    "from autofeat import AutoFeatClassifier\n",
    "import pandas as pd\n",
    "import numpy as np"
   ]
  },
  {
   "cell_type": "code",
   "execution_count": null,
   "id": "a9ae16f3-6b57-4d19-96d6-46369bb2b356",
   "metadata": {},
   "outputs": [],
   "source": [
    "steps = 2"
   ]
  },
  {
   "cell_type": "code",
   "execution_count": null,
   "id": "35dcf6f7-dc9f-410b-a91f-e5be64f7947f",
   "metadata": {},
   "outputs": [],
   "source": [
    "df_train = pd.read_csv(\"../Data/dt_realestate_train_2022.csv\")\n",
    "df_test = pd.read_csv(\"../Data/dt_realestate_test_2022.csv\")"
   ]
  },
  {
   "cell_type": "code",
   "execution_count": null,
   "id": "cf5e1679-6675-4d45-a922-ab364bd294ff",
   "metadata": {},
   "outputs": [],
   "source": [
    "df_train.iloc[:,3] = df_train.iloc[:,3].astype(object)\n",
    "df_test.iloc[:,2] = df_test.iloc[:,2].astype(object)"
   ]
  },
  {
   "cell_type": "code",
   "execution_count": null,
   "id": "7e451bf0-ecb7-46a2-8c84-66c0d4f817cd",
   "metadata": {},
   "outputs": [],
   "source": [
    "numeric_columns = df_train.select_dtypes(include=np.number).columns.tolist()\n",
    "numeric_columns.remove('id')"
   ]
  },
  {
   "cell_type": "code",
   "execution_count": null,
   "id": "b33881c8-1d6b-480a-8b03-7b307cd3e772",
   "metadata": {},
   "outputs": [],
   "source": [
    "others = [x for x in list(df_train.columns) if not x in numeric_columns or numeric_columns.remove(x)]"
   ]
  },
  {
   "cell_type": "code",
   "execution_count": null,
   "id": "928e7492-75f3-4c92-8747-6aea000effa3",
   "metadata": {},
   "outputs": [],
   "source": [
    "numeric_columns = df_train.select_dtypes(include=np.number).columns.tolist()\n",
    "numeric_columns.remove('id')"
   ]
  },
  {
   "cell_type": "code",
   "execution_count": null,
   "id": "505a88be-46d4-437f-ac40-c584a5c94640",
   "metadata": {},
   "outputs": [],
   "source": [
    "df_train.loc[:,df_train.select_dtypes(include=np.number).columns.tolist()] = df_train.loc[:,df_train.select_dtypes(include=np.number).columns.tolist()].apply(pd.to_numeric, downcast='integer')\n",
    "df_test.loc[:,df_test.select_dtypes(include=np.number).columns.tolist()] = df_test.loc[:,df_test.select_dtypes(include=np.number).columns.tolist()].apply(pd.to_numeric, downcast='integer')"
   ]
  },
  {
   "cell_type": "code",
   "execution_count": null,
   "id": "36fce237-7541-46fe-93a3-fc3d9e0d6162",
   "metadata": {},
   "outputs": [],
   "source": [
    "clf = AutoFeatClassifier(verbose=1, feateng_steps=steps, featsel_runs=5, transformations=('sqrt', '^2', '^3'), n_jobs=5)"
   ]
  },
  {
   "cell_type": "code",
   "execution_count": null,
   "id": "4c076f68-3ef5-4c20-9e63-45572cf8cb3e",
   "metadata": {},
   "outputs": [],
   "source": [
    "df_train"
   ]
  },
  {
   "cell_type": "code",
   "execution_count": null,
   "id": "661e50ce-0983-4936-9eba-1a9c340af6db",
   "metadata": {},
   "outputs": [],
   "source": [
    "df_test"
   ]
  },
  {
   "cell_type": "code",
   "execution_count": null,
   "id": "3a847902-d924-4b7d-abb4-33c61a980bd0",
   "metadata": {},
   "outputs": [],
   "source": [
    "df_train_new = clf.fit_transform(df_train.loc[:,numeric_columns], df_train.iloc[:,1])"
   ]
  },
  {
   "cell_type": "code",
   "execution_count": null,
   "id": "e6a0c38f-66ba-420d-b48e-68d68a771bf5",
   "metadata": {},
   "outputs": [],
   "source": [
    "df_train_new = df_train_new.join(df_train.loc[:,others])"
   ]
  },
  {
   "cell_type": "code",
   "execution_count": null,
   "id": "f0a0f28b-8597-4b59-af49-163f3b7e9541",
   "metadata": {},
   "outputs": [],
   "source": [
    "others.remove('price_category')"
   ]
  },
  {
   "cell_type": "code",
   "execution_count": null,
   "id": "61b638ae-5613-47e8-81f4-bebe89b2fbd7",
   "metadata": {},
   "outputs": [],
   "source": [
    "df_test_new = clf.transform(df_test.loc[:,numeric_columns])"
   ]
  },
  {
   "cell_type": "code",
   "execution_count": null,
   "id": "3dd15d76-4323-4579-a88d-debbafc080f5",
   "metadata": {},
   "outputs": [],
   "source": [
    "df_test_new = df_test_new.join(df_test.loc[:,others])"
   ]
  },
  {
   "cell_type": "code",
   "execution_count": null,
   "id": "b99dc62b-e458-46d9-bd3c-17da0d073f56",
   "metadata": {},
   "outputs": [],
   "source": [
    "df_train_new"
   ]
  },
  {
   "cell_type": "code",
   "execution_count": null,
   "id": "34e7785d-cd40-488e-99b9-4413a0fc8448",
   "metadata": {},
   "outputs": [],
   "source": [
    "df_test_new"
   ]
  },
  {
   "cell_type": "code",
   "execution_count": null,
   "id": "a68e0923-ecd5-4b35-b76e-06e5ceda6ae7",
   "metadata": {},
   "outputs": [],
   "source": [
    "df_train_new.to_csv(f\"../Data/dt_realestate_train_2022_autofeat_{steps}.csv\", index=False)\n",
    "df_test_new.to_csv(f\"../Data/dt_realestate_test_2022_autofeat_{steps}.csv\", index=False)"
   ]
  },
  {
   "cell_type": "code",
   "execution_count": null,
   "id": "dc0e4175-74ca-4c30-ba08-76ddeca4fa84",
   "metadata": {},
   "outputs": [],
   "source": []
  }
 ],
 "metadata": {
  "kernelspec": {
   "display_name": "Python 3 (ipykernel)",
   "language": "python",
   "name": "python3"
  },
  "language_info": {
   "codemirror_mode": {
    "name": "ipython",
    "version": 3
   },
   "file_extension": ".py",
   "mimetype": "text/x-python",
   "name": "python",
   "nbconvert_exporter": "python",
   "pygments_lexer": "ipython3",
   "version": "3.9.13"
  }
 },
 "nbformat": 4,
 "nbformat_minor": 5
}
